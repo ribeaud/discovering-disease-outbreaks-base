{
 "cells": [
  {
   "cell_type": "markdown",
   "metadata": {},
   "source": [
    "# Finding Geographic Locations of Headlines\n",
    "\n",
    "## Adding Latitude and Longitude Coordinates\n",
    "\n",
    "__Objective__: Find the geographic location of each headline in latitude and longitude coordinates from the city/country names. We will use these coordinates to perform clustering of geographically similar headlines in the next part.\n",
    "\n",
    "__Workflow__:\n",
    "1.\tLoad in the Pandas DataFrame with headline, countries, and cities.\n",
    "    -\tIf a headline contains multiple cities/countries, decide which single one to keep.\n",
    "2.\tFor each city/country, match the name to the latitude and longitude in geonamescache.\n",
    "    -\tYou can use the function gc.get_cities_by_names(“city_name”).\n",
    "    -\tSome cities will return multiple matches with the previous function in different countries. You’ll have to decide which city to keep based on a heuristic (rule of thumb).\n",
    "    -\tIf you have trouble, work with a single problematic city until you figure it out, then write a function to apply on all headlines.\n",
    "3.\tAdd longitude and latitude coordinates to your DataFrame for each headline.\n",
    "    -\tIt will be helpful to get the countrycode of each headline at this point.\n",
    "    -\tIf you were not able to find many countries, think about dropping the column. You also need to decide what to do with headlines that have no coordinates. \n",
    "    -\tYou should end up with over 600 headlines that have geographic coordinates\n",
    "    \n",
    "__Deliverable__:\n",
    "\n",
    "The deliverable is a Jupyter Notebook documenting your work as you add three additional columns to the DataFrame: longitude, latitude, and countrycode. We will use these coordinates to cluster the headlines in the next section. "
   ]
  },
  {
   "cell_type": "markdown",
   "metadata": {},
   "source": [
    "## Read Data into a DataFrame\n",
    "\n",
    "We stored the headline, cities, and countries as a json file that was a list of dictionaries. This can be directly read in a Pandas dataframe."
   ]
  },
  {
   "cell_type": "code",
   "execution_count": 2,
   "metadata": {
    "ExecuteTime": {
     "end_time": "2019-10-10T17:26:11.948955Z",
     "start_time": "2019-10-10T17:26:11.924245Z"
    }
   },
   "outputs": [
    {
     "data": {
      "text/html": [
       "<div>\n",
       "<style scoped>\n",
       "    .dataframe tbody tr th:only-of-type {\n",
       "        vertical-align: middle;\n",
       "    }\n",
       "\n",
       "    .dataframe tbody tr th {\n",
       "        vertical-align: top;\n",
       "    }\n",
       "\n",
       "    .dataframe thead th {\n",
       "        text-align: right;\n",
       "    }\n",
       "</style>\n",
       "<table border=\"1\" class=\"dataframe\">\n",
       "  <thead>\n",
       "    <tr style=\"text-align: right;\">\n",
       "      <th></th>\n",
       "      <th>headline</th>\n",
       "      <th>countries</th>\n",
       "      <th>cities</th>\n",
       "    </tr>\n",
       "  </thead>\n",
       "  <tbody>\n",
       "    <tr>\n",
       "      <th>0</th>\n",
       "      <td>Zika Outbreak Hits Miami</td>\n",
       "      <td>NaN</td>\n",
       "      <td>Miami</td>\n",
       "    </tr>\n",
       "    <tr>\n",
       "      <th>1</th>\n",
       "      <td>Could Zika Reach New York City?</td>\n",
       "      <td>NaN</td>\n",
       "      <td>New York City</td>\n",
       "    </tr>\n",
       "    <tr>\n",
       "      <th>2</th>\n",
       "      <td>First Case of Zika in Miami Beach</td>\n",
       "      <td>NaN</td>\n",
       "      <td>Miami Beach</td>\n",
       "    </tr>\n",
       "    <tr>\n",
       "      <th>3</th>\n",
       "      <td>Mystery Virus Spreads in Recife, Brazil</td>\n",
       "      <td>Brazil</td>\n",
       "      <td>Recife</td>\n",
       "    </tr>\n",
       "    <tr>\n",
       "      <th>4</th>\n",
       "      <td>Dallas man comes down with case of Zika</td>\n",
       "      <td>NaN</td>\n",
       "      <td>Dallas</td>\n",
       "    </tr>\n",
       "  </tbody>\n",
       "</table>\n",
       "</div>"
      ],
      "text/plain": [
       "                                  headline countries         cities\n",
       "0                 Zika Outbreak Hits Miami       NaN          Miami\n",
       "1          Could Zika Reach New York City?       NaN  New York City\n",
       "2        First Case of Zika in Miami Beach       NaN    Miami Beach\n",
       "3  Mystery Virus Spreads in Recife, Brazil    Brazil         Recife\n",
       "4  Dallas man comes down with case of Zika       NaN         Dallas"
      ]
     },
     "execution_count": 2,
     "metadata": {},
     "output_type": "execute_result"
    }
   ],
   "source": [
    "import pandas as pd\n",
    "import numpy as np\n",
    "\n",
    "data = pd.read_json(\"./data/headline_cities_and_countries.json\")\n",
    "data = data.replace({None: np.nan})\n",
    "data.head()"
   ]
  },
  {
   "cell_type": "code",
   "execution_count": 3,
   "metadata": {
    "ExecuteTime": {
     "end_time": "2019-10-10T17:26:11.956634Z",
     "start_time": "2019-10-10T17:26:11.950281Z"
    }
   },
   "outputs": [
    {
     "data": {
      "text/html": [
       "<div>\n",
       "<style scoped>\n",
       "    .dataframe tbody tr th:only-of-type {\n",
       "        vertical-align: middle;\n",
       "    }\n",
       "\n",
       "    .dataframe tbody tr th {\n",
       "        vertical-align: top;\n",
       "    }\n",
       "\n",
       "    .dataframe thead th {\n",
       "        text-align: right;\n",
       "    }\n",
       "</style>\n",
       "<table border=\"1\" class=\"dataframe\">\n",
       "  <thead>\n",
       "    <tr style=\"text-align: right;\">\n",
       "      <th></th>\n",
       "      <th>headline</th>\n",
       "      <th>countries</th>\n",
       "      <th>cities</th>\n",
       "    </tr>\n",
       "  </thead>\n",
       "  <tbody>\n",
       "    <tr>\n",
       "      <th>3</th>\n",
       "      <td>Mystery Virus Spreads in Recife, Brazil</td>\n",
       "      <td>Brazil</td>\n",
       "      <td>Recife</td>\n",
       "    </tr>\n",
       "    <tr>\n",
       "      <th>4</th>\n",
       "      <td>Dallas man comes down with case of Zika</td>\n",
       "      <td>NaN</td>\n",
       "      <td>Dallas</td>\n",
       "    </tr>\n",
       "  </tbody>\n",
       "</table>\n",
       "</div>"
      ],
      "text/plain": [
       "                                  headline countries  cities\n",
       "3  Mystery Virus Spreads in Recife, Brazil    Brazil  Recife\n",
       "4  Dallas man comes down with case of Zika       NaN  Dallas"
      ]
     },
     "execution_count": 3,
     "metadata": {},
     "output_type": "execute_result"
    }
   ],
   "source": [
    "data.iloc[3:5]"
   ]
  },
  {
   "cell_type": "markdown",
   "metadata": {},
   "source": [
    "We'll rename the columns to singular (since they only have one value each)."
   ]
  },
  {
   "cell_type": "code",
   "execution_count": 4,
   "metadata": {
    "ExecuteTime": {
     "end_time": "2019-10-10T17:26:11.967793Z",
     "start_time": "2019-10-10T17:26:11.960890Z"
    }
   },
   "outputs": [
    {
     "data": {
      "text/html": [
       "<div>\n",
       "<style scoped>\n",
       "    .dataframe tbody tr th:only-of-type {\n",
       "        vertical-align: middle;\n",
       "    }\n",
       "\n",
       "    .dataframe tbody tr th {\n",
       "        vertical-align: top;\n",
       "    }\n",
       "\n",
       "    .dataframe thead th {\n",
       "        text-align: right;\n",
       "    }\n",
       "</style>\n",
       "<table border=\"1\" class=\"dataframe\">\n",
       "  <thead>\n",
       "    <tr style=\"text-align: right;\">\n",
       "      <th></th>\n",
       "      <th>headline</th>\n",
       "      <th>country</th>\n",
       "      <th>city</th>\n",
       "    </tr>\n",
       "  </thead>\n",
       "  <tbody>\n",
       "    <tr>\n",
       "      <th>645</th>\n",
       "      <td>Rumors about Rabies spreading in Jerusalem hav...</td>\n",
       "      <td>NaN</td>\n",
       "      <td>Jerusalem</td>\n",
       "    </tr>\n",
       "    <tr>\n",
       "      <th>646</th>\n",
       "      <td>More Zika patients reported in Indang</td>\n",
       "      <td>NaN</td>\n",
       "      <td>Indang</td>\n",
       "    </tr>\n",
       "    <tr>\n",
       "      <th>647</th>\n",
       "      <td>Suva authorities confirmed the spread of Rotav...</td>\n",
       "      <td>NaN</td>\n",
       "      <td>Suva</td>\n",
       "    </tr>\n",
       "    <tr>\n",
       "      <th>648</th>\n",
       "      <td>More Zika patients reported in Bella Vista</td>\n",
       "      <td>NaN</td>\n",
       "      <td>Bella Vista</td>\n",
       "    </tr>\n",
       "    <tr>\n",
       "      <th>649</th>\n",
       "      <td>Zika Outbreak in Wichita Falls</td>\n",
       "      <td>NaN</td>\n",
       "      <td>Wichita Falls</td>\n",
       "    </tr>\n",
       "  </tbody>\n",
       "</table>\n",
       "</div>"
      ],
      "text/plain": [
       "                                              headline country           city\n",
       "645  Rumors about Rabies spreading in Jerusalem hav...     NaN      Jerusalem\n",
       "646              More Zika patients reported in Indang     NaN         Indang\n",
       "647  Suva authorities confirmed the spread of Rotav...     NaN           Suva\n",
       "648         More Zika patients reported in Bella Vista     NaN    Bella Vista\n",
       "649                     Zika Outbreak in Wichita Falls     NaN  Wichita Falls"
      ]
     },
     "execution_count": 4,
     "metadata": {},
     "output_type": "execute_result"
    }
   ],
   "source": [
    "data = data.rename(columns=dict(countries=\"country\", cities=\"city\"))\n",
    "data.tail()"
   ]
  },
  {
   "cell_type": "markdown",
   "metadata": {},
   "source": [
    "From a brief look at some of the headlines and cities, our regular expression pattern matching looks to have worked well. As we go through the project, we'll keep an eye out for places it may have failed."
   ]
  },
  {
   "cell_type": "markdown",
   "metadata": {},
   "source": [
    "## Investigate the Data\n",
    "\n",
    "We can start off using the `.describe()` method to understand our data."
   ]
  },
  {
   "cell_type": "code",
   "execution_count": 5,
   "metadata": {
    "ExecuteTime": {
     "end_time": "2019-10-10T17:26:12.036158Z",
     "start_time": "2019-10-10T17:26:12.021816Z"
    }
   },
   "outputs": [
    {
     "data": {
      "text/html": [
       "<div>\n",
       "<style scoped>\n",
       "    .dataframe tbody tr th:only-of-type {\n",
       "        vertical-align: middle;\n",
       "    }\n",
       "\n",
       "    .dataframe tbody tr th {\n",
       "        vertical-align: top;\n",
       "    }\n",
       "\n",
       "    .dataframe thead th {\n",
       "        text-align: right;\n",
       "    }\n",
       "</style>\n",
       "<table border=\"1\" class=\"dataframe\">\n",
       "  <thead>\n",
       "    <tr style=\"text-align: right;\">\n",
       "      <th></th>\n",
       "      <th>headline</th>\n",
       "      <th>country</th>\n",
       "      <th>city</th>\n",
       "    </tr>\n",
       "  </thead>\n",
       "  <tbody>\n",
       "    <tr>\n",
       "      <th>count</th>\n",
       "      <td>650</td>\n",
       "      <td>15</td>\n",
       "      <td>608</td>\n",
       "    </tr>\n",
       "    <tr>\n",
       "      <th>unique</th>\n",
       "      <td>647</td>\n",
       "      <td>10</td>\n",
       "      <td>573</td>\n",
       "    </tr>\n",
       "    <tr>\n",
       "      <th>top</th>\n",
       "      <td>Spanish Flu Spreading through Madrid</td>\n",
       "      <td>Malaysia</td>\n",
       "      <td>Monroe</td>\n",
       "    </tr>\n",
       "    <tr>\n",
       "      <th>freq</th>\n",
       "      <td>2</td>\n",
       "      <td>3</td>\n",
       "      <td>4</td>\n",
       "    </tr>\n",
       "  </tbody>\n",
       "</table>\n",
       "</div>"
      ],
      "text/plain": [
       "                                    headline   country    city\n",
       "count                                    650        15     608\n",
       "unique                                   647        10     573\n",
       "top     Spanish Flu Spreading through Madrid  Malaysia  Monroe\n",
       "freq                                       2         3       4"
      ]
     },
     "execution_count": 5,
     "metadata": {},
     "output_type": "execute_result"
    }
   ],
   "source": [
    "data.describe()"
   ]
  },
  {
   "cell_type": "markdown",
   "metadata": {},
   "source": [
    "It looks like there may be some duplicates in the data since at least one headline is mentioned twice. Let's check for duplicates and then drop any that are duplicated."
   ]
  },
  {
   "cell_type": "code",
   "execution_count": 6,
   "metadata": {
    "ExecuteTime": {
     "end_time": "2019-10-10T17:26:12.069939Z",
     "start_time": "2019-10-10T17:26:12.063645Z"
    }
   },
   "outputs": [
    {
     "data": {
      "text/plain": [
       "Zika spreads to Caucasia                                                       1\n",
       "Lower Hospitalization in Monroe after Hepatitis D Vaccine becomes Mandatory    1\n",
       "Spanish Flu Outbreak in Lisbon                                                 2\n",
       "Barcelona Struck by Spanish Flu                                                2\n",
       "Spanish Flu Spreading through Madrid                                           2\n",
       "Name: headline, dtype: int64"
      ]
     },
     "execution_count": 6,
     "metadata": {},
     "output_type": "execute_result"
    }
   ],
   "source": [
    "data[\"headline\"].value_counts().sort_values().tail()"
   ]
  },
  {
   "cell_type": "code",
   "execution_count": 7,
   "metadata": {
    "ExecuteTime": {
     "end_time": "2019-10-10T17:26:12.077377Z",
     "start_time": "2019-10-10T17:26:12.071564Z"
    }
   },
   "outputs": [
    {
     "name": "stdout",
     "output_type": "stream",
     "text": [
      "There were 650 rows before dropping duplicates.\n",
      "There are 647 rows after dropping duplicates.\n"
     ]
    }
   ],
   "source": [
    "print(f\"There were {len(data)} rows before dropping duplicates.\")\n",
    "data = data.drop_duplicates()\n",
    "print(f\"There are {len(data)} rows after dropping duplicates.\")"
   ]
  },
  {
   "cell_type": "markdown",
   "metadata": {},
   "source": [
    "Another useful method for data investigation is `.info()`"
   ]
  },
  {
   "cell_type": "code",
   "execution_count": 8,
   "metadata": {
    "ExecuteTime": {
     "end_time": "2019-10-10T17:26:12.110237Z",
     "start_time": "2019-10-10T17:26:12.104782Z"
    }
   },
   "outputs": [
    {
     "name": "stdout",
     "output_type": "stream",
     "text": [
      "<class 'pandas.core.frame.DataFrame'>\n",
      "Int64Index: 647 entries, 0 to 649\n",
      "Data columns (total 3 columns):\n",
      "headline    647 non-null object\n",
      "country     15 non-null object\n",
      "city        605 non-null object\n",
      "dtypes: object(3)\n",
      "memory usage: 20.2+ KB\n"
     ]
    }
   ],
   "source": [
    "data.info()"
   ]
  },
  {
   "cell_type": "markdown",
   "metadata": {},
   "source": [
    "We can see there are many missing countries (635) and some missing cities (42). The data types look correct at this point."
   ]
  },
  {
   "cell_type": "markdown",
   "metadata": {},
   "source": [
    "### Exploratory Plots\n",
    "\n",
    "Plots are a great way to visualize data. Let's take a look at the distribution of countries and cities."
   ]
  },
  {
   "cell_type": "code",
   "execution_count": 9,
   "metadata": {
    "ExecuteTime": {
     "end_time": "2019-10-10T17:26:12.174314Z",
     "start_time": "2019-10-10T17:26:12.170015Z"
    }
   },
   "outputs": [
    {
     "data": {
      "text/plain": [
       "Brazil       3\n",
       "Malaysia     3\n",
       "Panama       2\n",
       "Belize       1\n",
       "Guatemala    1\n",
       "Hong Kong    1\n",
       "Vietnam      1\n",
       "Thailand     1\n",
       "Mexico       1\n",
       "Singapore    1\n",
       "Name: country, dtype: int64"
      ]
     },
     "execution_count": 9,
     "metadata": {},
     "output_type": "execute_result"
    }
   ],
   "source": [
    "data['country'].value_counts()"
   ]
  },
  {
   "cell_type": "code",
   "execution_count": 10,
   "metadata": {
    "ExecuteTime": {
     "end_time": "2019-10-10T17:26:12.406210Z",
     "start_time": "2019-10-10T17:26:12.175724Z"
    }
   },
   "outputs": [
    {
     "data": {
      "image/png": "[encoded data removed]",
      "text/plain": [
       "<Figure size 432x288 with 1 Axes>"
      ]
     },
     "metadata": {
      "needs_background": "light"
     },
     "output_type": "display_data"
    }
   ],
   "source": [
    "%matplotlib inline\n",
    "\n",
    "_ = data['country'].value_counts().plot.bar(title='Count of Countries')"
   ]
  },
  {
   "cell_type": "markdown",
   "metadata": {},
   "source": [
    "We have many more cities, so a bar plot might not be the best graphic."
   ]
  },
  {
   "cell_type": "code",
   "execution_count": 11,
   "metadata": {
    "ExecuteTime": {
     "end_time": "2019-10-10T17:26:12.410819Z",
     "start_time": "2019-10-10T17:26:12.407800Z"
    }
   },
   "outputs": [
    {
     "name": "stdout",
     "output_type": "stream",
     "text": [
      "There are 10 different countries.\n",
      "There are 573 different cities.\n"
     ]
    }
   ],
   "source": [
    "print(f'There are {data[\"country\"].nunique()} different countries.')\n",
    "print(f'There are {data[\"city\"].nunique()} different cities.')"
   ]
  },
  {
   "cell_type": "markdown",
   "metadata": {},
   "source": [
    "Let's just look at the 10 most common cities."
   ]
  },
  {
   "cell_type": "code",
   "execution_count": 12,
   "metadata": {
    "ExecuteTime": {
     "end_time": "2019-10-10T17:26:12.418256Z",
     "start_time": "2019-10-10T17:26:12.412444Z"
    }
   },
   "outputs": [
    {
     "data": {
      "text/plain": [
       "Norwalk         2\n",
       "Barcelona       2\n",
       "Johannesburg    2\n",
       "Birmingham      2\n",
       "Richmond        2\n",
       "Cancun          2\n",
       "Colombo         2\n",
       "Madrid          3\n",
       "Miami           4\n",
       "Monroe          4\n",
       "Name: city, dtype: int64"
      ]
     },
     "execution_count": 12,
     "metadata": {},
     "output_type": "execute_result"
    }
   ],
   "source": [
    "data[\"city\"].value_counts().sort_values().tail(10)"
   ]
  },
  {
   "cell_type": "code",
   "execution_count": 13,
   "metadata": {
    "ExecuteTime": {
     "end_time": "2019-10-10T17:26:12.543664Z",
     "start_time": "2019-10-10T17:26:12.419374Z"
    }
   },
   "outputs": [
    {
     "data": {
      "image/png": "[encoded data removed]",
      "text/plain": [
       "<Figure size 432x288 with 1 Axes>"
      ]
     },
     "metadata": {
      "needs_background": "light"
     },
     "output_type": "display_data"
    }
   ],
   "source": [
    "_ = (\n",
    "    data[\"city\"]\n",
    "    .value_counts()\n",
    "    .sort_values()\n",
    "    .tail(10)\n",
    "    .plot.bar(title=\"10 Most Common Cities\")\n",
    ")"
   ]
  },
  {
   "cell_type": "markdown",
   "metadata": {},
   "source": [
    "We can see that there are no cities that dominate the headlines."
   ]
  },
  {
   "cell_type": "code",
   "execution_count": 14,
   "metadata": {
    "ExecuteTime": {
     "end_time": "2019-10-10T17:26:12.665833Z",
     "start_time": "2019-10-10T17:26:12.544778Z"
    }
   },
   "outputs": [
    {
     "data": {
      "image/png": "[encoded data removed]",
      "text/plain": [
       "<Figure size 432x288 with 1 Axes>"
      ]
     },
     "metadata": {
      "needs_background": "light"
     },
     "output_type": "display_data"
    }
   ],
   "source": [
    "_ = data[\"city\"].value_counts().plot.hist(title=\"Distribution of City Occurences\")"
   ]
  },
  {
   "cell_type": "markdown",
   "metadata": {},
   "source": [
    "# Add Latitude and Longitude for Each City\n",
    "\n",
    "We can now add the latitude and longitude for each city in the headlines. We will not add the country locations since there are a limited number of countries.\n",
    "\n",
    "## Accented Names\n",
    "\n",
    "For finding the cities, we need to use accented city names. We'll create an accented name column using our mapping from the previous section."
   ]
  },
  {
   "cell_type": "code",
   "execution_count": 15,
   "metadata": {
    "ExecuteTime": {
     "end_time": "2019-10-10T17:26:12.727909Z",
     "start_time": "2019-10-10T17:26:12.668344Z"
    }
   },
   "outputs": [
    {
     "data": {
      "text/html": [
       "<div>\n",
       "<style scoped>\n",
       "    .dataframe tbody tr th:only-of-type {\n",
       "        vertical-align: middle;\n",
       "    }\n",
       "\n",
       "    .dataframe tbody tr th {\n",
       "        vertical-align: top;\n",
       "    }\n",
       "\n",
       "    .dataframe thead th {\n",
       "        text-align: right;\n",
       "    }\n",
       "</style>\n",
       "<table border=\"1\" class=\"dataframe\">\n",
       "  <thead>\n",
       "    <tr style=\"text-align: right;\">\n",
       "      <th></th>\n",
       "      <th>headline</th>\n",
       "      <th>country</th>\n",
       "      <th>city</th>\n",
       "      <th>accented_city</th>\n",
       "    </tr>\n",
       "  </thead>\n",
       "  <tbody>\n",
       "    <tr>\n",
       "      <th>7</th>\n",
       "      <td>Geneve Scientists Battle to Find Cure</td>\n",
       "      <td>NaN</td>\n",
       "      <td>Geneve</td>\n",
       "      <td>Genève</td>\n",
       "    </tr>\n",
       "    <tr>\n",
       "      <th>9</th>\n",
       "      <td>Zika Infested Monkeys in Sao Paulo</td>\n",
       "      <td>NaN</td>\n",
       "      <td>Sao Paulo</td>\n",
       "      <td>São Paulo</td>\n",
       "    </tr>\n",
       "    <tr>\n",
       "      <th>17</th>\n",
       "      <td>Louisiana Zika cases up to 26</td>\n",
       "      <td>NaN</td>\n",
       "      <td>NaN</td>\n",
       "      <td>NaN</td>\n",
       "    </tr>\n",
       "    <tr>\n",
       "      <th>19</th>\n",
       "      <td>Zika infects pregnant woman in Cebu</td>\n",
       "      <td>NaN</td>\n",
       "      <td>NaN</td>\n",
       "      <td>NaN</td>\n",
       "    </tr>\n",
       "    <tr>\n",
       "      <th>47</th>\n",
       "      <td>18 new Zika Cases in Bogota</td>\n",
       "      <td>NaN</td>\n",
       "      <td>Bogota</td>\n",
       "      <td>Bogotá</td>\n",
       "    </tr>\n",
       "  </tbody>\n",
       "</table>\n",
       "</div>"
      ],
      "text/plain": [
       "                                 headline country       city accented_city\n",
       "7   Geneve Scientists Battle to Find Cure     NaN     Geneve        Genève\n",
       "9      Zika Infested Monkeys in Sao Paulo     NaN  Sao Paulo     São Paulo\n",
       "17          Louisiana Zika cases up to 26     NaN        NaN           NaN\n",
       "19    Zika infects pregnant woman in Cebu     NaN        NaN           NaN\n",
       "47            18 new Zika Cases in Bogota     NaN     Bogota        Bogotá"
      ]
     },
     "execution_count": 15,
     "metadata": {},
     "output_type": "execute_result"
    }
   ],
   "source": [
    "import geonamescache\n",
    "import unidecode\n",
    "\n",
    "import json\n",
    "\n",
    "gc = geonamescache.GeonamesCache()\n",
    "\n",
    "# Read in the saved unaccented:accented mapping\n",
    "with open(\"./data/city_accent_mapping.json\", \"r\") as fin:\n",
    "    city_accented_mapping = json.loads(fin.read())\n",
    "\n",
    "# Create a column for accented cities\n",
    "data[\"accented_city\"] = data[\"city\"].map(city_accented_mapping)\n",
    "data[data[\"city\"] != data[\"accented_city\"]].head()"
   ]
  },
  {
   "cell_type": "markdown",
   "metadata": {},
   "source": [
    "We can see there are several cases where the accented city does not match the original city."
   ]
  },
  {
   "cell_type": "code",
   "execution_count": 16,
   "metadata": {
    "ExecuteTime": {
     "end_time": "2019-10-10T17:26:12.806416Z",
     "start_time": "2019-10-10T17:26:12.729730Z"
    }
   },
   "outputs": [
    {
     "name": "stdout",
     "output_type": "stream",
     "text": [
      "[{'3448439': {'geonameid': 3448439, 'name': 'São Paulo', 'latitude': -23.5475, 'longitude': -46.63611, 'countrycode': 'BR', 'population': 10021295, 'timezone': 'America/Sao_Paulo', 'admin1code': '27'}}]\n"
     ]
    }
   ],
   "source": [
    "print(gc.get_cities_by_name('São Paulo'))"
   ]
  },
  {
   "cell_type": "code",
   "execution_count": 17,
   "metadata": {
    "ExecuteTime": {
     "end_time": "2019-10-10T17:26:12.812663Z",
     "start_time": "2019-10-10T17:26:12.807699Z"
    }
   },
   "outputs": [
    {
     "name": "stdout",
     "output_type": "stream",
     "text": [
      "[]\n"
     ]
    }
   ],
   "source": [
    "print(gc.get_cities_by_name('Sao Paulo'))"
   ]
  },
  {
   "cell_type": "markdown",
   "metadata": {},
   "source": [
    "We see the importance of using the accented names!"
   ]
  },
  {
   "cell_type": "markdown",
   "metadata": {},
   "source": [
    "## Handling Duplicate Cities\n",
    "\n",
    "This is where we'll handle the duplicate cities. Our approach is relatively basic:\n",
    "\n",
    "__For each city with multiple entries in geonames, we'll choose the city with the greatest population.__ \n",
    "\n",
    "This is may occassionally be wrong, but a headline is more likely to mention a larger city (by population).\n",
    "\n",
    "We can implement this by checking which is the largest entry for each city. Some cities have multiple locations as shown by `Boston`."
   ]
  },
  {
   "cell_type": "code",
   "execution_count": 18,
   "metadata": {
    "ExecuteTime": {
     "end_time": "2019-10-10T17:26:12.819352Z",
     "start_time": "2019-10-10T17:26:12.813784Z"
    }
   },
   "outputs": [
    {
     "data": {
      "text/plain": [
       "[{'2655138': {'geonameid': 2655138,\n",
       "   'name': 'Boston',\n",
       "   'latitude': 52.97633,\n",
       "   'longitude': -0.02664,\n",
       "   'countrycode': 'GB',\n",
       "   'population': 41340,\n",
       "   'timezone': 'Europe/London',\n",
       "   'admin1code': 'ENG'}},\n",
       " {'4930956': {'geonameid': 4930956,\n",
       "   'name': 'Boston',\n",
       "   'latitude': 42.35843,\n",
       "   'longitude': -71.05977,\n",
       "   'countrycode': 'US',\n",
       "   'population': 667137,\n",
       "   'timezone': 'America/New_York',\n",
       "   'admin1code': 'MA'}}]"
      ]
     },
     "execution_count": 18,
     "metadata": {},
     "output_type": "execute_result"
    }
   ],
   "source": [
    "city = 'Boston'\n",
    "gc.get_cities_by_name(city)"
   ]
  },
  {
   "cell_type": "markdown",
   "metadata": {},
   "source": [
    "In this case we want `Boston` in the United States since it has the larger population. To get the largest city, we sort the matches by the `population` key. "
   ]
  },
  {
   "cell_type": "code",
   "execution_count": 19,
   "metadata": {
    "ExecuteTime": {
     "end_time": "2019-10-10T17:26:12.826028Z",
     "start_time": "2019-10-10T17:26:12.820543Z"
    }
   },
   "outputs": [
    {
     "data": {
      "text/plain": [
       "[{'geonameid': 4930956,\n",
       "  'name': 'Boston',\n",
       "  'latitude': 42.35843,\n",
       "  'longitude': -71.05977,\n",
       "  'countrycode': 'US',\n",
       "  'population': 667137,\n",
       "  'timezone': 'America/New_York',\n",
       "  'admin1code': 'MA'},\n",
       " {'geonameid': 2655138,\n",
       "  'name': 'Boston',\n",
       "  'latitude': 52.97633,\n",
       "  'longitude': -0.02664,\n",
       "  'countrycode': 'GB',\n",
       "  'population': 41340,\n",
       "  'timezone': 'Europe/London',\n",
       "  'admin1code': 'ENG'}]"
      ]
     },
     "execution_count": 19,
     "metadata": {},
     "output_type": "execute_result"
    }
   ],
   "source": [
    "matches = gc.get_cities_by_name(city)\n",
    "matches = [{k: v for k, v in list(match.values())[0].items()} for match in matches]\n",
    "matches = sorted(matches, key=lambda x: x[\"population\"], reverse=True)\n",
    "matches"
   ]
  },
  {
   "cell_type": "markdown",
   "metadata": {},
   "source": [
    "This sorts by the population of the cities descending (largest to smallest). If we take the first city, then we'll have the largest."
   ]
  },
  {
   "cell_type": "markdown",
   "metadata": {},
   "source": [
    "## Finding Locations for Cities\n",
    "\n",
    "Now let's find the locations of all the cities in the headlines. We'll want to be careful to go through the accented city names. If there are multiple matches for a city, we'll take the largest city."
   ]
  },
  {
   "cell_type": "code",
   "execution_count": 20,
   "metadata": {
    "ExecuteTime": {
     "end_time": "2019-10-10T17:26:14.192016Z",
     "start_time": "2019-10-10T17:26:12.827203Z"
    }
   },
   "outputs": [
    {
     "data": {
      "text/plain": [
       "[{'name': 'Jerusalem',\n",
       "  'latitude': 31.76904,\n",
       "  'longitude': 35.21633,\n",
       "  'countrycode': 'IL',\n",
       "  'pop': 801000},\n",
       " {'name': 'Indang',\n",
       "  'latitude': 14.19528,\n",
       "  'longitude': 120.87694,\n",
       "  'countrycode': 'PH',\n",
       "  'pop': 41159},\n",
       " {'name': 'Suva',\n",
       "  'latitude': -18.14161,\n",
       "  'longitude': 178.44149,\n",
       "  'countrycode': 'FJ',\n",
       "  'pop': 77366},\n",
       " {'name': 'Bella Vista',\n",
       "  'latitude': 18.45539,\n",
       "  'longitude': -69.9454,\n",
       "  'countrycode': 'DO',\n",
       "  'pop': 175683},\n",
       " {'name': 'Wichita Falls',\n",
       "  'latitude': 33.91371,\n",
       "  'longitude': -98.49339,\n",
       "  'countrycode': 'US',\n",
       "  'pop': 104710}]"
      ]
     },
     "execution_count": 20,
     "metadata": {},
     "output_type": "execute_result"
    }
   ],
   "source": [
    "city_locations = []\n",
    "\n",
    "# Go through all the accented cities\n",
    "for city in data[\"accented_city\"]:\n",
    "    # Find matches (if any)\n",
    "    matches = gc.get_cities_by_name(city)\n",
    "    if matches:\n",
    "        # Sort from largest to smallest population\n",
    "        matches = [\n",
    "            {k: v for k, v in list(match.values())[0].items()} for match in matches\n",
    "        ]\n",
    "        matches = sorted(matches, key=lambda x: x[\"population\"], reverse=True)\n",
    "\n",
    "        # Find the match with the largest population\n",
    "        match = matches[0]\n",
    "\n",
    "        # Record the information\n",
    "        city_locations.append(\n",
    "            {\n",
    "                \"name\": match[\"name\"],\n",
    "                \"latitude\": match[\"latitude\"],\n",
    "                \"longitude\": match[\"longitude\"],\n",
    "                \"countrycode\": match[\"countrycode\"],\n",
    "                \"pop\": match[\"population\"],\n",
    "            }\n",
    "        )\n",
    "\n",
    "city_locations[-5:]"
   ]
  },
  {
   "cell_type": "markdown",
   "metadata": {},
   "source": [
    "We can convert this list of dictionaries to a dataframe."
   ]
  },
  {
   "cell_type": "code",
   "execution_count": 21,
   "metadata": {
    "ExecuteTime": {
     "end_time": "2019-10-10T17:26:14.201766Z",
     "start_time": "2019-10-10T17:26:14.193258Z"
    }
   },
   "outputs": [
    {
     "data": {
      "text/html": [
       "<div>\n",
       "<style scoped>\n",
       "    .dataframe tbody tr th:only-of-type {\n",
       "        vertical-align: middle;\n",
       "    }\n",
       "\n",
       "    .dataframe tbody tr th {\n",
       "        vertical-align: top;\n",
       "    }\n",
       "\n",
       "    .dataframe thead th {\n",
       "        text-align: right;\n",
       "    }\n",
       "</style>\n",
       "<table border=\"1\" class=\"dataframe\">\n",
       "  <thead>\n",
       "    <tr style=\"text-align: right;\">\n",
       "      <th></th>\n",
       "      <th>name</th>\n",
       "      <th>latitude</th>\n",
       "      <th>longitude</th>\n",
       "      <th>countrycode</th>\n",
       "      <th>pop</th>\n",
       "    </tr>\n",
       "  </thead>\n",
       "  <tbody>\n",
       "    <tr>\n",
       "      <th>600</th>\n",
       "      <td>Jerusalem</td>\n",
       "      <td>31.76904</td>\n",
       "      <td>35.21633</td>\n",
       "      <td>IL</td>\n",
       "      <td>801000</td>\n",
       "    </tr>\n",
       "    <tr>\n",
       "      <th>601</th>\n",
       "      <td>Indang</td>\n",
       "      <td>14.19528</td>\n",
       "      <td>120.87694</td>\n",
       "      <td>PH</td>\n",
       "      <td>41159</td>\n",
       "    </tr>\n",
       "    <tr>\n",
       "      <th>602</th>\n",
       "      <td>Suva</td>\n",
       "      <td>-18.14161</td>\n",
       "      <td>178.44149</td>\n",
       "      <td>FJ</td>\n",
       "      <td>77366</td>\n",
       "    </tr>\n",
       "    <tr>\n",
       "      <th>603</th>\n",
       "      <td>Bella Vista</td>\n",
       "      <td>18.45539</td>\n",
       "      <td>-69.94540</td>\n",
       "      <td>DO</td>\n",
       "      <td>175683</td>\n",
       "    </tr>\n",
       "    <tr>\n",
       "      <th>604</th>\n",
       "      <td>Wichita Falls</td>\n",
       "      <td>33.91371</td>\n",
       "      <td>-98.49339</td>\n",
       "      <td>US</td>\n",
       "      <td>104710</td>\n",
       "    </tr>\n",
       "  </tbody>\n",
       "</table>\n",
       "</div>"
      ],
      "text/plain": [
       "              name  latitude  longitude countrycode     pop\n",
       "600      Jerusalem  31.76904   35.21633          IL  801000\n",
       "601         Indang  14.19528  120.87694          PH   41159\n",
       "602           Suva -18.14161  178.44149          FJ   77366\n",
       "603    Bella Vista  18.45539  -69.94540          DO  175683\n",
       "604  Wichita Falls  33.91371  -98.49339          US  104710"
      ]
     },
     "execution_count": 21,
     "metadata": {},
     "output_type": "execute_result"
    }
   ],
   "source": [
    "city_locations = pd.DataFrame(city_locations)\n",
    "city_locations.tail()"
   ]
  },
  {
   "cell_type": "code",
   "execution_count": 22,
   "metadata": {
    "ExecuteTime": {
     "end_time": "2019-10-10T17:26:14.208114Z",
     "start_time": "2019-10-10T17:26:14.202947Z"
    }
   },
   "outputs": [
    {
     "name": "stdout",
     "output_type": "stream",
     "text": [
      "We have the locations for 573 unique cities.\n"
     ]
    }
   ],
   "source": [
    "city_locations = city_locations.drop_duplicates()\n",
    "print(f\"We have the locations for {city_locations.shape[0]} unique cities.\")"
   ]
  },
  {
   "cell_type": "markdown",
   "metadata": {},
   "source": [
    "Next let's merge with the headlines on the `accented_city` and `name`."
   ]
  },
  {
   "cell_type": "code",
   "execution_count": 23,
   "metadata": {
    "ExecuteTime": {
     "end_time": "2019-10-10T17:26:14.222640Z",
     "start_time": "2019-10-10T17:26:14.209163Z"
    }
   },
   "outputs": [
    {
     "data": {
      "text/html": [
       "<div>\n",
       "<style scoped>\n",
       "    .dataframe tbody tr th:only-of-type {\n",
       "        vertical-align: middle;\n",
       "    }\n",
       "\n",
       "    .dataframe tbody tr th {\n",
       "        vertical-align: top;\n",
       "    }\n",
       "\n",
       "    .dataframe thead th {\n",
       "        text-align: right;\n",
       "    }\n",
       "</style>\n",
       "<table border=\"1\" class=\"dataframe\">\n",
       "  <thead>\n",
       "    <tr style=\"text-align: right;\">\n",
       "      <th></th>\n",
       "      <th>headline</th>\n",
       "      <th>country</th>\n",
       "      <th>city</th>\n",
       "      <th>accented_city</th>\n",
       "      <th>name</th>\n",
       "      <th>latitude</th>\n",
       "      <th>longitude</th>\n",
       "      <th>countrycode</th>\n",
       "      <th>pop</th>\n",
       "    </tr>\n",
       "  </thead>\n",
       "  <tbody>\n",
       "    <tr>\n",
       "      <th>0</th>\n",
       "      <td>Zika Outbreak Hits Miami</td>\n",
       "      <td>NaN</td>\n",
       "      <td>Miami</td>\n",
       "      <td>Miami</td>\n",
       "      <td>Miami</td>\n",
       "      <td>25.77427</td>\n",
       "      <td>-80.19366</td>\n",
       "      <td>US</td>\n",
       "      <td>441003.0</td>\n",
       "    </tr>\n",
       "    <tr>\n",
       "      <th>1</th>\n",
       "      <td>Could Zika Reach New York City?</td>\n",
       "      <td>NaN</td>\n",
       "      <td>New York City</td>\n",
       "      <td>New York City</td>\n",
       "      <td>New York City</td>\n",
       "      <td>40.71427</td>\n",
       "      <td>-74.00597</td>\n",
       "      <td>US</td>\n",
       "      <td>8175133.0</td>\n",
       "    </tr>\n",
       "    <tr>\n",
       "      <th>2</th>\n",
       "      <td>First Case of Zika in Miami Beach</td>\n",
       "      <td>NaN</td>\n",
       "      <td>Miami Beach</td>\n",
       "      <td>Miami Beach</td>\n",
       "      <td>Miami Beach</td>\n",
       "      <td>25.79065</td>\n",
       "      <td>-80.13005</td>\n",
       "      <td>US</td>\n",
       "      <td>92312.0</td>\n",
       "    </tr>\n",
       "    <tr>\n",
       "      <th>3</th>\n",
       "      <td>Mystery Virus Spreads in Recife, Brazil</td>\n",
       "      <td>Brazil</td>\n",
       "      <td>Recife</td>\n",
       "      <td>Recife</td>\n",
       "      <td>Recife</td>\n",
       "      <td>-8.05389</td>\n",
       "      <td>-34.88111</td>\n",
       "      <td>BR</td>\n",
       "      <td>1478098.0</td>\n",
       "    </tr>\n",
       "    <tr>\n",
       "      <th>4</th>\n",
       "      <td>Dallas man comes down with case of Zika</td>\n",
       "      <td>NaN</td>\n",
       "      <td>Dallas</td>\n",
       "      <td>Dallas</td>\n",
       "      <td>Dallas</td>\n",
       "      <td>32.78306</td>\n",
       "      <td>-96.80667</td>\n",
       "      <td>US</td>\n",
       "      <td>1300092.0</td>\n",
       "    </tr>\n",
       "  </tbody>\n",
       "</table>\n",
       "</div>"
      ],
      "text/plain": [
       "                                  headline country           city  \\\n",
       "0                 Zika Outbreak Hits Miami     NaN          Miami   \n",
       "1          Could Zika Reach New York City?     NaN  New York City   \n",
       "2        First Case of Zika in Miami Beach     NaN    Miami Beach   \n",
       "3  Mystery Virus Spreads in Recife, Brazil  Brazil         Recife   \n",
       "4  Dallas man comes down with case of Zika     NaN         Dallas   \n",
       "\n",
       "   accented_city           name  latitude  longitude countrycode        pop  \n",
       "0          Miami          Miami  25.77427  -80.19366          US   441003.0  \n",
       "1  New York City  New York City  40.71427  -74.00597          US  8175133.0  \n",
       "2    Miami Beach    Miami Beach  25.79065  -80.13005          US    92312.0  \n",
       "3         Recife         Recife  -8.05389  -34.88111          BR  1478098.0  \n",
       "4         Dallas         Dallas  32.78306  -96.80667          US  1300092.0  "
      ]
     },
     "execution_count": 23,
     "metadata": {},
     "output_type": "execute_result"
    }
   ],
   "source": [
    "data = pd.merge(\n",
    "    data, city_locations, left_on=\"accented_city\", right_on=\"name\", how=\"left\"\n",
    ")\n",
    "data.head()"
   ]
  },
  {
   "cell_type": "markdown",
   "metadata": {},
   "source": [
    "Let's make sure keeping the largest city worked. We can try `Boston` as well as `Rochester`, both of which should be in the United States."
   ]
  },
  {
   "cell_type": "code",
   "execution_count": 24,
   "metadata": {
    "ExecuteTime": {
     "end_time": "2019-10-10T17:26:14.234446Z",
     "start_time": "2019-10-10T17:26:14.223968Z"
    }
   },
   "outputs": [
    {
     "data": {
      "text/html": [
       "<div>\n",
       "<style scoped>\n",
       "    .dataframe tbody tr th:only-of-type {\n",
       "        vertical-align: middle;\n",
       "    }\n",
       "\n",
       "    .dataframe tbody tr th {\n",
       "        vertical-align: top;\n",
       "    }\n",
       "\n",
       "    .dataframe thead th {\n",
       "        text-align: right;\n",
       "    }\n",
       "</style>\n",
       "<table border=\"1\" class=\"dataframe\">\n",
       "  <thead>\n",
       "    <tr style=\"text-align: right;\">\n",
       "      <th></th>\n",
       "      <th>headline</th>\n",
       "      <th>country</th>\n",
       "      <th>city</th>\n",
       "      <th>accented_city</th>\n",
       "      <th>name</th>\n",
       "      <th>latitude</th>\n",
       "      <th>longitude</th>\n",
       "      <th>countrycode</th>\n",
       "      <th>pop</th>\n",
       "    </tr>\n",
       "  </thead>\n",
       "  <tbody>\n",
       "    <tr>\n",
       "      <th>27</th>\n",
       "      <td>Flu season hits Boston</td>\n",
       "      <td>NaN</td>\n",
       "      <td>Boston</td>\n",
       "      <td>Boston</td>\n",
       "      <td>Boston</td>\n",
       "      <td>42.35843</td>\n",
       "      <td>-71.05977</td>\n",
       "      <td>US</td>\n",
       "      <td>667137.0</td>\n",
       "    </tr>\n",
       "  </tbody>\n",
       "</table>\n",
       "</div>"
      ],
      "text/plain": [
       "                  headline country    city accented_city    name  latitude  \\\n",
       "27  Flu season hits Boston     NaN  Boston        Boston  Boston  42.35843   \n",
       "\n",
       "    longitude countrycode       pop  \n",
       "27  -71.05977          US  667137.0  "
      ]
     },
     "execution_count": 24,
     "metadata": {},
     "output_type": "execute_result"
    }
   ],
   "source": [
    "data[data['city'] == 'Boston']"
   ]
  },
  {
   "cell_type": "code",
   "execution_count": 25,
   "metadata": {
    "ExecuteTime": {
     "end_time": "2019-10-10T17:26:14.245102Z",
     "start_time": "2019-10-10T17:26:14.235542Z"
    }
   },
   "outputs": [
    {
     "data": {
      "text/html": [
       "<div>\n",
       "<style scoped>\n",
       "    .dataframe tbody tr th:only-of-type {\n",
       "        vertical-align: middle;\n",
       "    }\n",
       "\n",
       "    .dataframe tbody tr th {\n",
       "        vertical-align: top;\n",
       "    }\n",
       "\n",
       "    .dataframe thead th {\n",
       "        text-align: right;\n",
       "    }\n",
       "</style>\n",
       "<table border=\"1\" class=\"dataframe\">\n",
       "  <thead>\n",
       "    <tr style=\"text-align: right;\">\n",
       "      <th></th>\n",
       "      <th>headline</th>\n",
       "      <th>country</th>\n",
       "      <th>city</th>\n",
       "      <th>accented_city</th>\n",
       "      <th>name</th>\n",
       "      <th>latitude</th>\n",
       "      <th>longitude</th>\n",
       "      <th>countrycode</th>\n",
       "      <th>pop</th>\n",
       "    </tr>\n",
       "  </thead>\n",
       "  <tbody>\n",
       "    <tr>\n",
       "      <th>84</th>\n",
       "      <td>Rochester authorities confirmed the spread of ...</td>\n",
       "      <td>NaN</td>\n",
       "      <td>Rochester</td>\n",
       "      <td>Rochester</td>\n",
       "      <td>Rochester</td>\n",
       "      <td>43.15478</td>\n",
       "      <td>-77.61556</td>\n",
       "      <td>US</td>\n",
       "      <td>209802.0</td>\n",
       "    </tr>\n",
       "    <tr>\n",
       "      <th>298</th>\n",
       "      <td>Herpes Keeps Spreading in Rochester</td>\n",
       "      <td>NaN</td>\n",
       "      <td>Rochester</td>\n",
       "      <td>Rochester</td>\n",
       "      <td>Rochester</td>\n",
       "      <td>43.15478</td>\n",
       "      <td>-77.61556</td>\n",
       "      <td>US</td>\n",
       "      <td>209802.0</td>\n",
       "    </tr>\n",
       "  </tbody>\n",
       "</table>\n",
       "</div>"
      ],
      "text/plain": [
       "                                              headline country       city  \\\n",
       "84   Rochester authorities confirmed the spread of ...     NaN  Rochester   \n",
       "298                Herpes Keeps Spreading in Rochester     NaN  Rochester   \n",
       "\n",
       "    accented_city       name  latitude  longitude countrycode       pop  \n",
       "84      Rochester  Rochester  43.15478  -77.61556          US  209802.0  \n",
       "298     Rochester  Rochester  43.15478  -77.61556          US  209802.0  "
      ]
     },
     "execution_count": 25,
     "metadata": {},
     "output_type": "execute_result"
    }
   ],
   "source": [
    "data[data['city'] == 'Rochester']"
   ]
  },
  {
   "cell_type": "markdown",
   "metadata": {},
   "source": [
    "It looks like our method for finding the largest city worked as expected. For each headline with a city in `geonamescache`, we now have the latitude and longitude.\n",
    "\n",
    "Due to the limited number of countries found in headlines, we'll stick to only the cities."
   ]
  },
  {
   "cell_type": "markdown",
   "metadata": {},
   "source": [
    "## Data Cleaning"
   ]
  },
  {
   "cell_type": "code",
   "execution_count": 26,
   "metadata": {
    "ExecuteTime": {
     "end_time": "2019-10-10T17:26:14.365675Z",
     "start_time": "2019-10-10T17:26:14.246255Z"
    }
   },
   "outputs": [
    {
     "data": {
      "image/png": "[encoded data removed]",
      "text/plain": [
       "<Figure size 432x288 with 1 Axes>"
      ]
     },
     "metadata": {
      "needs_background": "light"
     },
     "output_type": "display_data"
    }
   ],
   "source": [
    "_ = data.isna().sum().plot.bar(title='Missing Values by Column')"
   ]
  },
  {
   "cell_type": "markdown",
   "metadata": {},
   "source": [
    "We can see there are quite a few missing values in the `country` column. Let's just remove the country since it does not give us much information. "
   ]
  },
  {
   "cell_type": "code",
   "execution_count": 27,
   "metadata": {
    "ExecuteTime": {
     "end_time": "2019-10-10T17:26:14.372326Z",
     "start_time": "2019-10-10T17:26:14.368901Z"
    }
   },
   "outputs": [],
   "source": [
    "data = data.drop(columns=['country'])"
   ]
  },
  {
   "cell_type": "markdown",
   "metadata": {},
   "source": [
    "Let's investigate the headlines where we don't have a `name`. We might be able to figure out more data cleaning steps to take."
   ]
  },
  {
   "cell_type": "code",
   "execution_count": 28,
   "metadata": {
    "ExecuteTime": {
     "end_time": "2019-10-10T17:26:14.384979Z",
     "start_time": "2019-10-10T17:26:14.374275Z"
    }
   },
   "outputs": [
    {
     "name": "stdout",
     "output_type": "stream",
     "text": [
      "There are 42 headlines without a city.\n"
     ]
    },
    {
     "data": {
      "text/html": [
       "<div>\n",
       "<style scoped>\n",
       "    .dataframe tbody tr th:only-of-type {\n",
       "        vertical-align: middle;\n",
       "    }\n",
       "\n",
       "    .dataframe tbody tr th {\n",
       "        vertical-align: top;\n",
       "    }\n",
       "\n",
       "    .dataframe thead th {\n",
       "        text-align: right;\n",
       "    }\n",
       "</style>\n",
       "<table border=\"1\" class=\"dataframe\">\n",
       "  <thead>\n",
       "    <tr style=\"text-align: right;\">\n",
       "      <th></th>\n",
       "      <th>headline</th>\n",
       "      <th>city</th>\n",
       "      <th>accented_city</th>\n",
       "      <th>name</th>\n",
       "      <th>latitude</th>\n",
       "      <th>longitude</th>\n",
       "      <th>countrycode</th>\n",
       "      <th>pop</th>\n",
       "    </tr>\n",
       "  </thead>\n",
       "  <tbody>\n",
       "    <tr>\n",
       "      <th>596</th>\n",
       "      <td>Zika arrives in Dangriga</td>\n",
       "      <td>NaN</td>\n",
       "      <td>NaN</td>\n",
       "      <td>NaN</td>\n",
       "      <td>NaN</td>\n",
       "      <td>NaN</td>\n",
       "      <td>NaN</td>\n",
       "      <td>NaN</td>\n",
       "    </tr>\n",
       "    <tr>\n",
       "      <th>601</th>\n",
       "      <td>More Patients in Maynard are Getting Diagnosed with Syphilis</td>\n",
       "      <td>NaN</td>\n",
       "      <td>NaN</td>\n",
       "      <td>NaN</td>\n",
       "      <td>NaN</td>\n",
       "      <td>NaN</td>\n",
       "      <td>NaN</td>\n",
       "      <td>NaN</td>\n",
       "    </tr>\n",
       "    <tr>\n",
       "      <th>625</th>\n",
       "      <td>Zika case reported in Antioquia</td>\n",
       "      <td>NaN</td>\n",
       "      <td>NaN</td>\n",
       "      <td>NaN</td>\n",
       "      <td>NaN</td>\n",
       "      <td>NaN</td>\n",
       "      <td>NaN</td>\n",
       "      <td>NaN</td>\n",
       "    </tr>\n",
       "    <tr>\n",
       "      <th>627</th>\n",
       "      <td>Chikungunya has not Left Pismo Beach</td>\n",
       "      <td>NaN</td>\n",
       "      <td>NaN</td>\n",
       "      <td>NaN</td>\n",
       "      <td>NaN</td>\n",
       "      <td>NaN</td>\n",
       "      <td>NaN</td>\n",
       "      <td>NaN</td>\n",
       "    </tr>\n",
       "    <tr>\n",
       "      <th>628</th>\n",
       "      <td>Zika spreads to La Joya</td>\n",
       "      <td>NaN</td>\n",
       "      <td>NaN</td>\n",
       "      <td>NaN</td>\n",
       "      <td>NaN</td>\n",
       "      <td>NaN</td>\n",
       "      <td>NaN</td>\n",
       "      <td>NaN</td>\n",
       "    </tr>\n",
       "  </tbody>\n",
       "</table>\n",
       "</div>"
      ],
      "text/plain": [
       "                                                         headline city  \\\n",
       "596                                      Zika arrives in Dangriga  NaN   \n",
       "601  More Patients in Maynard are Getting Diagnosed with Syphilis  NaN   \n",
       "625                               Zika case reported in Antioquia  NaN   \n",
       "627                          Chikungunya has not Left Pismo Beach  NaN   \n",
       "628                                       Zika spreads to La Joya  NaN   \n",
       "\n",
       "    accented_city name  latitude  longitude countrycode  pop  \n",
       "596           NaN  NaN       NaN        NaN         NaN  NaN  \n",
       "601           NaN  NaN       NaN        NaN         NaN  NaN  \n",
       "625           NaN  NaN       NaN        NaN         NaN  NaN  \n",
       "627           NaN  NaN       NaN        NaN         NaN  NaN  \n",
       "628           NaN  NaN       NaN        NaN         NaN  NaN  "
      ]
     },
     "execution_count": 28,
     "metadata": {},
     "output_type": "execute_result"
    }
   ],
   "source": [
    "pd.options.display.max_colwidth = 100\n",
    "\n",
    "no_name = data[data[\"name\"].isna()].copy()\n",
    "\n",
    "print(f\"There are {len(no_name)} headlines without a city.\")\n",
    "\n",
    "no_name.tail()"
   ]
  },
  {
   "cell_type": "markdown",
   "metadata": {},
   "source": [
    "We should manually check a few of these to make sure we can't find a city for the headline."
   ]
  },
  {
   "cell_type": "code",
   "execution_count": 29,
   "metadata": {
    "ExecuteTime": {
     "end_time": "2019-10-10T17:26:14.391374Z",
     "start_time": "2019-10-10T17:26:14.386104Z"
    }
   },
   "outputs": [
    {
     "name": "stdout",
     "output_type": "stream",
     "text": [
      "Did Not Find City\n",
      "Did Not Find City\n",
      "Did Not Find City\n",
      "Did Not Find City\n",
      "Did Not Find City\n"
     ]
    }
   ],
   "source": [
    "city_set = set(city_accented_mapping.keys())\n",
    "\n",
    "for city in [\"Dangriga\", \"Maynard\", \"Antioquia\", \"Pismo Beach\", \"La Joya\"]:\n",
    "    if city in city_set:\n",
    "        print(\"Found \", city)\n",
    "    else:\n",
    "        print(\"Did Not Find City\")"
   ]
  },
  {
   "cell_type": "markdown",
   "metadata": {},
   "source": [
    "It appears that the 42 headlines without a city name may have a city, but it is not included in `geonamescache`. We'll have to go ahead and remove these cities since they cannot be used."
   ]
  },
  {
   "cell_type": "code",
   "execution_count": 30,
   "metadata": {
    "ExecuteTime": {
     "end_time": "2019-10-10T17:26:14.410603Z",
     "start_time": "2019-10-10T17:26:14.392499Z"
    }
   },
   "outputs": [
    {
     "data": {
      "text/html": [
       "<div>\n",
       "<style scoped>\n",
       "    .dataframe tbody tr th:only-of-type {\n",
       "        vertical-align: middle;\n",
       "    }\n",
       "\n",
       "    .dataframe tbody tr th {\n",
       "        vertical-align: top;\n",
       "    }\n",
       "\n",
       "    .dataframe thead th {\n",
       "        text-align: right;\n",
       "    }\n",
       "</style>\n",
       "<table border=\"1\" class=\"dataframe\">\n",
       "  <thead>\n",
       "    <tr style=\"text-align: right;\">\n",
       "      <th></th>\n",
       "      <th>latitude</th>\n",
       "      <th>longitude</th>\n",
       "      <th>pop</th>\n",
       "    </tr>\n",
       "  </thead>\n",
       "  <tbody>\n",
       "    <tr>\n",
       "      <th>count</th>\n",
       "      <td>605.000000</td>\n",
       "      <td>605.000000</td>\n",
       "      <td>6.050000e+02</td>\n",
       "    </tr>\n",
       "    <tr>\n",
       "      <th>mean</th>\n",
       "      <td>26.765746</td>\n",
       "      <td>-38.243197</td>\n",
       "      <td>8.904713e+05</td>\n",
       "    </tr>\n",
       "    <tr>\n",
       "      <th>std</th>\n",
       "      <td>20.619771</td>\n",
       "      <td>79.480854</td>\n",
       "      <td>1.974091e+06</td>\n",
       "    </tr>\n",
       "    <tr>\n",
       "      <th>min</th>\n",
       "      <td>-53.787690</td>\n",
       "      <td>-156.506040</td>\n",
       "      <td>1.338100e+04</td>\n",
       "    </tr>\n",
       "    <tr>\n",
       "      <th>25%</th>\n",
       "      <td>16.419040</td>\n",
       "      <td>-90.444300</td>\n",
       "      <td>5.878700e+04</td>\n",
       "    </tr>\n",
       "    <tr>\n",
       "      <th>50%</th>\n",
       "      <td>33.749000</td>\n",
       "      <td>-76.496610</td>\n",
       "      <td>1.712140e+05</td>\n",
       "    </tr>\n",
       "    <tr>\n",
       "      <th>75%</th>\n",
       "      <td>40.714270</td>\n",
       "      <td>7.095490</td>\n",
       "      <td>6.480340e+05</td>\n",
       "    </tr>\n",
       "    <tr>\n",
       "      <th>max</th>\n",
       "      <td>59.938630</td>\n",
       "      <td>179.364510</td>\n",
       "      <td>1.307630e+07</td>\n",
       "    </tr>\n",
       "  </tbody>\n",
       "</table>\n",
       "</div>"
      ],
      "text/plain": [
       "         latitude   longitude           pop\n",
       "count  605.000000  605.000000  6.050000e+02\n",
       "mean    26.765746  -38.243197  8.904713e+05\n",
       "std     20.619771   79.480854  1.974091e+06\n",
       "min    -53.787690 -156.506040  1.338100e+04\n",
       "25%     16.419040  -90.444300  5.878700e+04\n",
       "50%     33.749000  -76.496610  1.712140e+05\n",
       "75%     40.714270    7.095490  6.480340e+05\n",
       "max     59.938630  179.364510  1.307630e+07"
      ]
     },
     "execution_count": 30,
     "metadata": {},
     "output_type": "execute_result"
    }
   ],
   "source": [
    "data = data.dropna(subset=['name'])\n",
    "data.describe()"
   ]
  },
  {
   "cell_type": "code",
   "execution_count": 31,
   "metadata": {
    "ExecuteTime": {
     "end_time": "2019-10-10T17:26:14.414596Z",
     "start_time": "2019-10-10T17:26:14.412063Z"
    }
   },
   "outputs": [
    {
     "name": "stdout",
     "output_type": "stream",
     "text": [
      "We have the city locations for 605 cities.\n"
     ]
    }
   ],
   "source": [
    "print(f'We have the city locations for {len(data)} cities.')"
   ]
  },
  {
   "cell_type": "code",
   "execution_count": 32,
   "metadata": {
    "ExecuteTime": {
     "end_time": "2019-10-10T17:26:14.552579Z",
     "start_time": "2019-10-10T17:26:14.415767Z"
    }
   },
   "outputs": [
    {
     "data": {
      "image/png": "[encoded data removed]",
      "text/plain": [
       "<Figure size 432x288 with 1 Axes>"
      ]
     },
     "metadata": {
      "needs_background": "light"
     },
     "output_type": "display_data"
    }
   ],
   "source": [
    "_ = data['pop'].plot.hist(title='Histogram of Population')"
   ]
  },
  {
   "cell_type": "code",
   "execution_count": 33,
   "metadata": {
    "ExecuteTime": {
     "end_time": "2019-10-10T17:26:14.676693Z",
     "start_time": "2019-10-10T17:26:14.553874Z"
    }
   },
   "outputs": [
    {
     "data": {
      "image/png": "[encoded data removed]",
      "text/plain": [
       "<Figure size 432x288 with 1 Axes>"
      ]
     },
     "metadata": {
      "needs_background": "light"
     },
     "output_type": "display_data"
    }
   ],
   "source": [
    "_ = data.plot.scatter(\n",
    "    x=\"longitude\", y=\"latitude\", title=\"Scatter Plot of Latitude and Longitude\"\n",
    ")"
   ]
  },
  {
   "cell_type": "markdown",
   "metadata": {},
   "source": [
    "This looks sort of like a map! We'll have to use a map in the next section."
   ]
  },
  {
   "cell_type": "markdown",
   "metadata": {},
   "source": [
    "As a final cleaning step, we can remove the `name` column since it is redundant with city. The final data frame is below."
   ]
  },
  {
   "cell_type": "code",
   "execution_count": 34,
   "metadata": {
    "ExecuteTime": {
     "end_time": "2019-10-10T17:26:14.686930Z",
     "start_time": "2019-10-10T17:26:14.678042Z"
    }
   },
   "outputs": [
    {
     "data": {
      "text/html": [
       "<div>\n",
       "<style scoped>\n",
       "    .dataframe tbody tr th:only-of-type {\n",
       "        vertical-align: middle;\n",
       "    }\n",
       "\n",
       "    .dataframe tbody tr th {\n",
       "        vertical-align: top;\n",
       "    }\n",
       "\n",
       "    .dataframe thead th {\n",
       "        text-align: right;\n",
       "    }\n",
       "</style>\n",
       "<table border=\"1\" class=\"dataframe\">\n",
       "  <thead>\n",
       "    <tr style=\"text-align: right;\">\n",
       "      <th></th>\n",
       "      <th>headline</th>\n",
       "      <th>city</th>\n",
       "      <th>accented_city</th>\n",
       "      <th>latitude</th>\n",
       "      <th>longitude</th>\n",
       "      <th>countrycode</th>\n",
       "      <th>pop</th>\n",
       "    </tr>\n",
       "  </thead>\n",
       "  <tbody>\n",
       "    <tr>\n",
       "      <th>642</th>\n",
       "      <td>Rumors about Rabies spreading in Jerusalem have been refuted</td>\n",
       "      <td>Jerusalem</td>\n",
       "      <td>Jerusalem</td>\n",
       "      <td>31.76904</td>\n",
       "      <td>35.21633</td>\n",
       "      <td>IL</td>\n",
       "      <td>801000.0</td>\n",
       "    </tr>\n",
       "    <tr>\n",
       "      <th>643</th>\n",
       "      <td>More Zika patients reported in Indang</td>\n",
       "      <td>Indang</td>\n",
       "      <td>Indang</td>\n",
       "      <td>14.19528</td>\n",
       "      <td>120.87694</td>\n",
       "      <td>PH</td>\n",
       "      <td>41159.0</td>\n",
       "    </tr>\n",
       "    <tr>\n",
       "      <th>644</th>\n",
       "      <td>Suva authorities confirmed the spread of Rotavirus</td>\n",
       "      <td>Suva</td>\n",
       "      <td>Suva</td>\n",
       "      <td>-18.14161</td>\n",
       "      <td>178.44149</td>\n",
       "      <td>FJ</td>\n",
       "      <td>77366.0</td>\n",
       "    </tr>\n",
       "    <tr>\n",
       "      <th>645</th>\n",
       "      <td>More Zika patients reported in Bella Vista</td>\n",
       "      <td>Bella Vista</td>\n",
       "      <td>Bella Vista</td>\n",
       "      <td>18.45539</td>\n",
       "      <td>-69.94540</td>\n",
       "      <td>DO</td>\n",
       "      <td>175683.0</td>\n",
       "    </tr>\n",
       "    <tr>\n",
       "      <th>646</th>\n",
       "      <td>Zika Outbreak in Wichita Falls</td>\n",
       "      <td>Wichita Falls</td>\n",
       "      <td>Wichita Falls</td>\n",
       "      <td>33.91371</td>\n",
       "      <td>-98.49339</td>\n",
       "      <td>US</td>\n",
       "      <td>104710.0</td>\n",
       "    </tr>\n",
       "  </tbody>\n",
       "</table>\n",
       "</div>"
      ],
      "text/plain": [
       "                                                         headline  \\\n",
       "642  Rumors about Rabies spreading in Jerusalem have been refuted   \n",
       "643                         More Zika patients reported in Indang   \n",
       "644            Suva authorities confirmed the spread of Rotavirus   \n",
       "645                    More Zika patients reported in Bella Vista   \n",
       "646                                Zika Outbreak in Wichita Falls   \n",
       "\n",
       "              city  accented_city  latitude  longitude countrycode       pop  \n",
       "642      Jerusalem      Jerusalem  31.76904   35.21633          IL  801000.0  \n",
       "643         Indang         Indang  14.19528  120.87694          PH   41159.0  \n",
       "644           Suva           Suva -18.14161  178.44149          FJ   77366.0  \n",
       "645    Bella Vista    Bella Vista  18.45539  -69.94540          DO  175683.0  \n",
       "646  Wichita Falls  Wichita Falls  33.91371  -98.49339          US  104710.0  "
      ]
     },
     "execution_count": 34,
     "metadata": {},
     "output_type": "execute_result"
    }
   ],
   "source": [
    "data = data.drop(columns=['name'])\n",
    "data.tail()"
   ]
  },
  {
   "cell_type": "code",
   "execution_count": 35,
   "metadata": {
    "ExecuteTime": {
     "end_time": "2019-10-10T17:26:14.696299Z",
     "start_time": "2019-10-10T17:26:14.688008Z"
    }
   },
   "outputs": [
    {
     "data": {
      "text/html": [
       "<div>\n",
       "<style scoped>\n",
       "    .dataframe tbody tr th:only-of-type {\n",
       "        vertical-align: middle;\n",
       "    }\n",
       "\n",
       "    .dataframe tbody tr th {\n",
       "        vertical-align: top;\n",
       "    }\n",
       "\n",
       "    .dataframe thead th {\n",
       "        text-align: right;\n",
       "    }\n",
       "</style>\n",
       "<table border=\"1\" class=\"dataframe\">\n",
       "  <thead>\n",
       "    <tr style=\"text-align: right;\">\n",
       "      <th></th>\n",
       "      <th>headline</th>\n",
       "      <th>city</th>\n",
       "      <th>latitude</th>\n",
       "      <th>longitude</th>\n",
       "      <th>countrycode</th>\n",
       "    </tr>\n",
       "  </thead>\n",
       "  <tbody>\n",
       "    <tr>\n",
       "      <th>0</th>\n",
       "      <td>Zika Outbreak Hits Miami</td>\n",
       "      <td>Miami</td>\n",
       "      <td>25.77427</td>\n",
       "      <td>-80.19366</td>\n",
       "      <td>US</td>\n",
       "    </tr>\n",
       "    <tr>\n",
       "      <th>1</th>\n",
       "      <td>Could Zika Reach New York City?</td>\n",
       "      <td>New York City</td>\n",
       "      <td>40.71427</td>\n",
       "      <td>-74.00597</td>\n",
       "      <td>US</td>\n",
       "    </tr>\n",
       "    <tr>\n",
       "      <th>2</th>\n",
       "      <td>First Case of Zika in Miami Beach</td>\n",
       "      <td>Miami Beach</td>\n",
       "      <td>25.79065</td>\n",
       "      <td>-80.13005</td>\n",
       "      <td>US</td>\n",
       "    </tr>\n",
       "    <tr>\n",
       "      <th>3</th>\n",
       "      <td>Mystery Virus Spreads in Recife, Brazil</td>\n",
       "      <td>Recife</td>\n",
       "      <td>-8.05389</td>\n",
       "      <td>-34.88111</td>\n",
       "      <td>BR</td>\n",
       "    </tr>\n",
       "    <tr>\n",
       "      <th>4</th>\n",
       "      <td>Dallas man comes down with case of Zika</td>\n",
       "      <td>Dallas</td>\n",
       "      <td>32.78306</td>\n",
       "      <td>-96.80667</td>\n",
       "      <td>US</td>\n",
       "    </tr>\n",
       "    <tr>\n",
       "      <th>5</th>\n",
       "      <td>Trinidad confirms first Zika case</td>\n",
       "      <td>Trinidad</td>\n",
       "      <td>-14.83333</td>\n",
       "      <td>-64.90000</td>\n",
       "      <td>BO</td>\n",
       "    </tr>\n",
       "    <tr>\n",
       "      <th>6</th>\n",
       "      <td>Zika Concerns are Spreading in Houston</td>\n",
       "      <td>Houston</td>\n",
       "      <td>29.76328</td>\n",
       "      <td>-95.36327</td>\n",
       "      <td>US</td>\n",
       "    </tr>\n",
       "    <tr>\n",
       "      <th>7</th>\n",
       "      <td>Geneve Scientists Battle to Find Cure</td>\n",
       "      <td>Geneve</td>\n",
       "      <td>46.20222</td>\n",
       "      <td>6.14569</td>\n",
       "      <td>CH</td>\n",
       "    </tr>\n",
       "    <tr>\n",
       "      <th>8</th>\n",
       "      <td>The CDC in Atlanta is Growing Worried</td>\n",
       "      <td>Atlanta</td>\n",
       "      <td>33.74900</td>\n",
       "      <td>-84.38798</td>\n",
       "      <td>US</td>\n",
       "    </tr>\n",
       "    <tr>\n",
       "      <th>9</th>\n",
       "      <td>Zika Infested Monkeys in Sao Paulo</td>\n",
       "      <td>Sao Paulo</td>\n",
       "      <td>-23.54750</td>\n",
       "      <td>-46.63611</td>\n",
       "      <td>BR</td>\n",
       "    </tr>\n",
       "  </tbody>\n",
       "</table>\n",
       "</div>"
      ],
      "text/plain": [
       "                                  headline           city  latitude  \\\n",
       "0                 Zika Outbreak Hits Miami          Miami  25.77427   \n",
       "1          Could Zika Reach New York City?  New York City  40.71427   \n",
       "2        First Case of Zika in Miami Beach    Miami Beach  25.79065   \n",
       "3  Mystery Virus Spreads in Recife, Brazil         Recife  -8.05389   \n",
       "4  Dallas man comes down with case of Zika         Dallas  32.78306   \n",
       "5        Trinidad confirms first Zika case       Trinidad -14.83333   \n",
       "6   Zika Concerns are Spreading in Houston        Houston  29.76328   \n",
       "7    Geneve Scientists Battle to Find Cure         Geneve  46.20222   \n",
       "8    The CDC in Atlanta is Growing Worried        Atlanta  33.74900   \n",
       "9       Zika Infested Monkeys in Sao Paulo      Sao Paulo -23.54750   \n",
       "\n",
       "   longitude countrycode  \n",
       "0  -80.19366          US  \n",
       "1  -74.00597          US  \n",
       "2  -80.13005          US  \n",
       "3  -34.88111          BR  \n",
       "4  -96.80667          US  \n",
       "5  -64.90000          BO  \n",
       "6  -95.36327          US  \n",
       "7    6.14569          CH  \n",
       "8  -84.38798          US  \n",
       "9  -46.63611          BR  "
      ]
     },
     "execution_count": 35,
     "metadata": {},
     "output_type": "execute_result"
    }
   ],
   "source": [
    "data[['headline', 'city', 'latitude', 'longitude', 'countrycode']].head(10)"
   ]
  },
  {
   "cell_type": "markdown",
   "metadata": {},
   "source": [
    "This dataframe is the final outcome from this section. We will use it to cluster headlines based on the geographic location in the next section."
   ]
  },
  {
   "cell_type": "markdown",
   "metadata": {},
   "source": [
    "## Saving Data\n",
    "\n",
    "Let's save the final processed dataframe to a csv file for easy input and output with Pandas."
   ]
  },
  {
   "cell_type": "code",
   "execution_count": 37,
   "metadata": {
    "ExecuteTime": {
     "end_time": "2019-10-10T17:26:14.706202Z",
     "start_time": "2019-10-10T17:26:14.697364Z"
    }
   },
   "outputs": [],
   "source": [
    "data.to_csv('./data/processed_headlines_locations.csv')"
   ]
  },
  {
   "cell_type": "markdown",
   "metadata": {},
   "source": [
    "# Summary\n",
    "\n",
    "In this notebook we:\n",
    "\n",
    "* Read the parsed headlines into a dataframe\n",
    "* Found the location of the cities mentioned in the headlines\n",
    "* Kept the largest city if a city was in geonames multiple times\n",
    "* Joined the cities to the headlines \n",
    "* Cleaned up the final dataframe to only headlines with a location\n",
    "\n",
    "The end deliverable is a dataframe containing the headline, the city mentioned in the headline, the location of the city, and the population of the city. We can move on to clustering and visualizing the headline locations in the next section!"
   ]
  },
  {
   "cell_type": "code",
   "execution_count": null,
   "metadata": {},
   "outputs": [],
   "source": []
  }
 ],
 "metadata": {
  "hide_input": false,
  "kernelspec": {
   "display_name": "Python 3",
   "language": "python",
   "name": "python3"
  },
  "language_info": {
   "codemirror_mode": {
    "name": "ipython",
    "version": 3
   },
   "file_extension": ".py",
   "mimetype": "text/x-python",
   "name": "python",
   "nbconvert_exporter": "python",
   "pygments_lexer": "ipython3",
   "version": "3.7.6"
  },
  "toc": {
   "base_numbering": 1,
   "nav_menu": {},
   "number_sections": true,
   "sideBar": true,
   "skip_h1_title": false,
   "title_cell": "Table of Contents",
   "title_sidebar": "Contents",
   "toc_cell": false,
   "toc_position": {},
   "toc_section_display": true,
   "toc_window_display": false
  },
  "varInspector": {
   "cols": {
    "lenName": 16,
    "lenType": 16,
    "lenVar": 40
   },
   "kernels_config": {
    "python": {
     "delete_cmd_postfix": "",
     "delete_cmd_prefix": "del ",
     "library": "var_list.py",
     "varRefreshCmd": "print(var_dic_list())"
    },
    "r": {
     "delete_cmd_postfix": ") ",
     "delete_cmd_prefix": "rm(",
     "library": "var_list.r",
     "varRefreshCmd": "cat(var_dic_list()) "
    }
   },
   "types_to_exclude": [
    "module",
    "function",
    "builtin_function_or_method",
    "instance",
    "_Feature"
   ],
   "window_display": false
  }
 },
 "nbformat": 4,
 "nbformat_minor": 4
}
