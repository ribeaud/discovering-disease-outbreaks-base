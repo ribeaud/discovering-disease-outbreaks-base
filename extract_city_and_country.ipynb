{
 "cells": [
  {
   "cell_type": "code",
   "execution_count": 19,
   "metadata": {
    "pycharm": {
     "is_executing": false
    }
   },
   "outputs": [],
   "source": [
    "import geonamescache\n",
    "import re\n",
    "import unidecode\n",
    "import pandas as pd\n",
    "from geonamescache.mappers import country\n",
    "mapper = country(from_key='iso', to_key='name')\n",
    "\n",
    "gc = geonamescache.GeonamesCache()\n",
    "# Gets all countries\n",
    "countries = tuple(sorted(gc.get_countries_by_names().keys()))\n",
    "assert len(countries) == 252\n",
    "# Gets all city names (country does NOT matter, just the name).\n",
    "cities = tuple(sorted(set([v['name'] for (k, v) in gc.get_cities().items()])))\n",
    "us_states = tuple(sorted(gc.get_us_states_by_names()))\n",
    "us_counties = tuple(sorted(set([county['name'].split()[0].strip() for county in gc.get_us_counties()])))\n",
    "assert 'Louisiana' not in cities\n",
    "assert 'Antigua' not in cities and 'Antigua Guatemala' in cities\n",
    "assert 'Sussex' not in cities and 'Sussex' in us_counties\n",
    "assert 'Louisiana' in us_states\n",
    "assert len(cities) == 23090"
   ]
  },
  {
   "cell_type": "code",
   "execution_count": 20,
   "metadata": {},
   "outputs": [
    {
     "name": "stdout",
     "output_type": "stream",
     "text": [
      "No one single match found in headline 'Louisiana Zika cases up to 26'.\n",
      "20 lines have been processed!\n",
      "No one single match found in headline 'Zika infects pregnant woman in Cebu'.\n",
      "40 lines have been processed!\n",
      "No one single match found in headline 'Spanish Flu Sighted in Antigua'.\n",
      "60 lines have been processed!\n",
      "No one single match found in headline 'Zika case reported in Oton'.\n",
      "No one single match found in headline 'Hillsborough uses innovative trap against Zika 20 minutes ago'.\n",
      "80 lines have been processed!\n",
      "No one single match found in headline 'Maka City Experiences Influenza Outbreak'.\n",
      "100 lines have been processed!\n",
      "120 lines have been processed!\n",
      "140 lines have been processed!\n",
      "No one single match found in headline 'West Nile Virus Outbreak in Saint Johns'.\n",
      "160 lines have been processed!\n",
      "180 lines have been processed!\n",
      "200 lines have been processed!\n",
      "220 lines have been processed!\n",
      "No one single match found in headline 'Malaria Exposure in Sussex'.\n",
      "240 lines have been processed!\n",
      "No one single match found in headline 'Greenwich Establishes Zika Task Force'.\n",
      "No one single match found in headline 'Will West Nile Virus vaccine help Parsons?'.\n",
      "260 lines have been processed!\n",
      "280 lines have been processed!\n",
      "No one single match found in headline 'Zika case reported in Los Fresnos'.\n",
      "300 lines have been processed!\n",
      "No one single match found in headline 'More people in Boucau are infected with HIV every year'.\n",
      "320 lines have been processed!\n",
      "No one single match found in headline 'Bronchitis Outbreak in Manhasset'.\n",
      "340 lines have been processed!\n",
      "No one single match found in headline 'Rumors about Influenza Spreading in Dobbs Ferry have been Refuted'.\n",
      "360 lines have been processed!\n",
      "No one single match found in headline 'More people in Huron are infected with Dengue every year'.\n",
      "No one single match found in headline 'Will Tuberculosis vaccine help Cherry Creek?'.\n",
      "380 lines have been processed!\n",
      "No one single match found in headline 'Gympie Patient in Critical Condition after Contracting Chlamydia'.\n",
      "400 lines have been processed!\n",
      "420 lines have been processed!\n",
      "440 lines have been processed!\n",
      "460 lines have been processed!\n",
      "No one single match found in headline 'Martinsville tests new cure for Measles'.\n",
      "No one single match found in headline 'More Patients in Magnolia are Getting Diagnosed with Malaria'.\n",
      "480 lines have been processed!\n",
      "No one single match found in headline 'Rumors about Syphilis spreading in Penal have been refuted'.\n",
      "500 lines have been processed!\n",
      "No one single match found in headline 'Fort Belvoir tests new cure for Hepatitis C'.\n",
      "No one single match found in headline 'More people in Oak Brook are infected with Respiratory Syncytial Virus every year'.\n",
      "520 lines have been processed!\n",
      "No one single match found in headline 'Longwood volunteers spreading Zika awareness'.\n",
      "No one single match found in headline 'Zika symptoms spotted in Quixere'.\n",
      "540 lines have been processed!\n",
      "560 lines have been processed!\n",
      "No one single match found in headline 'Measles Hits Davos'.\n",
      "580 lines have been processed!\n",
      "No one single match found in headline 'Schools in Coamo Closed Due to Rhinovirus Outbreak'.\n",
      "600 lines have been processed!\n",
      "No one single match found in headline 'Zika arrives in Dangriga'.\n",
      "No one single match found in headline 'More Patients in Maynard are Getting Diagnosed with Syphilis'.\n",
      "620 lines have been processed!\n",
      "No one single match found in headline 'Zika case reported in Antioquia'.\n",
      "No one single match found in headline 'Chikungunya has not Left Pismo Beach'.\n",
      "No one single match found in headline 'Zika spreads to La Joya'.\n",
      "640 lines have been processed!\n",
      "Finished!\n",
      "CPU times: user 11min 19s, sys: 901 ms, total: 11min 20s\n",
      "Wall time: 11min 21s\n"
     ]
    }
   ],
   "source": [
    "%%time\n",
    "\n",
    "# Creating an empty Dataframe with column names only\n",
    "df = pd.DataFrame(columns=['headline', 'countries', 'cities'])\n",
    "with open(\"data/headlines.txt\") as f:\n",
    "    counter = 0\n",
    "    for line in f.read().splitlines():\n",
    "        counter += 1\n",
    "        if counter % 20 == 0:\n",
    "            print(f\"{counter} lines have been processed!\")\n",
    "        matches = []\n",
    "        # Each headline contains the city, never the country alone. So loop over the cities.\n",
    "        # However we could have an US state or a county. Ignore them for now.\n",
    "        for city in cities:\n",
    "            if re.search(f\"\\\\b{unidecode.unidecode(city)}\\\\b\", line, re.IGNORECASE):\n",
    "                matches.append(city)\n",
    "        # In 'Could Zika Reach New York City?', we will find 'New York City' AND 'York'\n",
    "        if matches:\n",
    "            # Consider the longest match\n",
    "            match = max(matches, key=len)\n",
    "            gc_cities = gc.get_cities_by_name(match)\n",
    "            if not gc_cities:\n",
    "                print(f\"NO match for city name '{match}'.\")\n",
    "            elif len(gc_cities) > 1:\n",
    "                df = df.append({'headline': line, 'countries': None,\n",
    "                                'cities': unidecode.unidecode(match)}, ignore_index=True)\n",
    "            else:\n",
    "                gc_city = list(gc_cities[0].values())[0]\n",
    "                df = df.append({'headline': line, 'countries': mapper(gc_city['countrycode']),\n",
    "                                'cities': unidecode.unidecode(match)}, ignore_index=True)\n",
    "        else:\n",
    "            # Should we extend the search to US states/counties?\n",
    "            print(f\"No one single match found in headline '{line}'.\")\n",
    "df.to_csv('output.csv', index=False, encoding='utf-8')\n",
    "print(\"Finished!\")\n",
    "                "
   ]
  },
  {
   "cell_type": "code",
   "execution_count": null,
   "metadata": {},
   "outputs": [],
   "source": []
  }
 ],
 "metadata": {
  "kernelspec": {
   "display_name": "Python 3",
   "language": "python",
   "name": "python3"
  },
  "language_info": {
   "codemirror_mode": {
    "name": "ipython",
    "version": 3
   },
   "file_extension": ".py",
   "mimetype": "text/x-python",
   "name": "python",
   "nbconvert_exporter": "python",
   "pygments_lexer": "ipython3",
   "version": "3.7.6"
  },
  "pycharm": {
   "stem_cell": {
    "cell_type": "raw",
    "metadata": {
     "collapsed": false
    },
    "source": []
   }
  }
 },
 "nbformat": 4,
 "nbformat_minor": 1
}
